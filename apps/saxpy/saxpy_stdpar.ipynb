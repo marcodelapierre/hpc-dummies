{
 "cells": [
  {
   "cell_type": "code",
   "execution_count": 20,
   "id": "bebce159-5a18-4222-ab2a-1c794fc78964",
   "metadata": {},
   "outputs": [],
   "source": [
    "!nvc++ -std=c++20 -stdpar=multicore \\\n",
    "  -O4 -fast -march=native -Mllvm-fast -DNDEBUG \\\n",
    "  -o saxpy_stdpar_multicore.x saxpy_stdpar.cpp"
   ]
  },
  {
   "cell_type": "code",
   "execution_count": 21,
   "id": "f91e45e1-1b4e-4895-a93d-edd01fd4daf0",
   "metadata": {},
   "outputs": [
    {
     "name": "stdout",
     "output_type": "stream",
     "text": [
      "N: 67108864; Err: 0; Clock[ms]: 105.274; \n"
     ]
    }
   ],
   "source": [
    "!OMP_NUM_THREADS=1 ./saxpy_stdpar_multicore.x"
   ]
  },
  {
   "cell_type": "code",
   "execution_count": 22,
   "id": "cfbc5938-0088-46eb-9501-783bbdf9e830",
   "metadata": {},
   "outputs": [
    {
     "name": "stdout",
     "output_type": "stream",
     "text": [
      "N: 67108864; Err: 0; Clock[ms]: 53.9146; \n"
     ]
    }
   ],
   "source": [
    "!OMP_NUM_THREADS=2 ./saxpy_stdpar_multicore.x"
   ]
  },
  {
   "cell_type": "code",
   "execution_count": 23,
   "id": "b990bd31-0cd9-4ed1-92d6-1dfe27f0d191",
   "metadata": {},
   "outputs": [],
   "source": [
    "!nvc++ -std=c++20 -stdpar=gpu \\\n",
    "  -O4 -fast -march=native -Mllvm-fast -DNDEBUG \\\n",
    "  -o saxpy_stdpar_gpu.x saxpy_stdpar.cpp"
   ]
  },
  {
   "cell_type": "code",
   "execution_count": 24,
   "id": "2780f6d4-d7ff-466c-8b1d-a9af0ec7333b",
   "metadata": {},
   "outputs": [
    {
     "name": "stdout",
     "output_type": "stream",
     "text": [
      "N: 67108864; Err: 0; Clock[ms]: 1.67489; \n"
     ]
    }
   ],
   "source": [
    "!./saxpy_stdpar_gpu.x"
   ]
  },
  {
   "cell_type": "code",
   "execution_count": null,
   "id": "d4395d6d-3ab9-4ebb-b3b0-1761e4ba978c",
   "metadata": {},
   "outputs": [],
   "source": []
  }
 ],
 "metadata": {
  "kernelspec": {
   "display_name": "Python 3 (ipykernel)",
   "language": "python",
   "name": "python3"
  },
  "language_info": {
   "codemirror_mode": {
    "name": "ipython",
    "version": 3
   },
   "file_extension": ".py",
   "mimetype": "text/x-python",
   "name": "python",
   "nbconvert_exporter": "python",
   "pygments_lexer": "ipython3",
   "version": "3.10.6"
  }
 },
 "nbformat": 4,
 "nbformat_minor": 5
}
