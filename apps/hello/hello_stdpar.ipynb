{
 "cells": [
  {
   "cell_type": "code",
   "execution_count": 14,
   "id": "4fb16b7b-04fc-4951-ac4a-c3ea61211981",
   "metadata": {},
   "outputs": [],
   "source": [
    "!nvc++ -std=c++20 -stdpar=multicore -O4 -fast -march=native -Mllvm-fast -DNDEBUG -o hello_stdpar_multicore.x hello_stdpar.cpp"
   ]
  },
  {
   "cell_type": "code",
   "execution_count": 15,
   "id": "090d9e98-51d8-474e-b433-a86de9f64988",
   "metadata": {},
   "outputs": [
    {
     "name": "stdout",
     "output_type": "stream",
     "text": [
      "Hello from i = 4\n",
      "Hello from i = 5\n",
      "Hello from i = 6\n",
      "Hello from i = 7\n",
      "Hello from i = 0\n",
      "Hello from i = 1\n",
      "Hello from i = 2\n",
      "Hello from i = 3\n",
      "Hello from i = 8\n",
      "Hello from i = 9\n",
      "Hello from i = 10\n",
      "Hello from i = 11\n",
      "Hello from i = 12\n",
      "Hello from i = 13\n",
      "Hello from i = 14\n"
     ]
    }
   ],
   "source": [
    "!./hello_stdpar_multicore.x"
   ]
  },
  {
   "cell_type": "code",
   "execution_count": 16,
   "id": "eca3cfb2-3305-4722-bf67-192f3778d2a6",
   "metadata": {},
   "outputs": [],
   "source": [
    "!nvc++ -std=c++20 -stdpar=gpu -O4 -fast -march=native -Mllvm-fast -DNDEBUG -o hello_stdpar_gpu.x hello_stdpar.cpp"
   ]
  },
  {
   "cell_type": "code",
   "execution_count": 19,
   "id": "4b67862d-3bf2-4c89-a400-53de9de96bee",
   "metadata": {},
   "outputs": [
    {
     "name": "stdout",
     "output_type": "stream",
     "text": [
      "Hello from i = 0\n",
      "Hello from i = 1\n",
      "Hello from i = 2\n",
      "Hello from i = 3\n",
      "Hello from i = 4\n",
      "Hello from i = 5\n",
      "Hello from i = 6\n",
      "Hello from i = 7\n",
      "Hello from i = 8\n",
      "Hello from i = 9\n",
      "Hello from i = 10\n",
      "Hello from i = 11\n",
      "Hello from i = 12\n",
      "Hello from i = 13\n",
      "Hello from i = 14\n"
     ]
    }
   ],
   "source": [
    "!./hello_stdpar_gpu.x"
   ]
  },
  {
   "cell_type": "code",
   "execution_count": null,
   "id": "eea02264-d516-4584-b5e0-f2f58377cb03",
   "metadata": {},
   "outputs": [],
   "source": []
  }
 ],
 "metadata": {
  "kernelspec": {
   "display_name": "Python 3 (ipykernel)",
   "language": "python",
   "name": "python3"
  },
  "language_info": {
   "codemirror_mode": {
    "name": "ipython",
    "version": 3
   },
   "file_extension": ".py",
   "mimetype": "text/x-python",
   "name": "python",
   "nbconvert_exporter": "python",
   "pygments_lexer": "ipython3",
   "version": "3.10.6"
  }
 },
 "nbformat": 4,
 "nbformat_minor": 5
}
